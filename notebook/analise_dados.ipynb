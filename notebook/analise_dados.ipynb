{
 "cells": [
  {
   "cell_type": "markdown",
   "id": "71bcc381",
   "metadata": {},
   "source": [
    "# 🎓 Sistema de Recomendação de Conteúdo Educacional\n",
    "\n",
    "Este notebook apresenta a implementação e o treinamento do modelo de **Filtros Colaborativos (ALS)**, utilizando a biblioteca **`implicit`**, como requisito do **Estágio Supervisionado III**.\n",
    "\n",
    "O objetivo é demonstrar o processo completo de construção do modelo em um **dataset de larga escala**, preparando-o para ser integrado a uma aplicação interativa.\n",
    "\n",
    "Serão abordadas as seguintes etapas:\n",
    "\n",
    "- **Configuração do Ambiente**\n",
    "- **Carregamento e Pré-Processamento dos Dados**\n",
    "- **Treinamento e Exportação do Modelo ALS**\n",
    "\n",
    "---\n",
    "\n",
    "\n",
    "## 1️⃣ Configuração do Ambiente e Dependências\n",
    "\n",
    "A célula a seguir prepara o ambiente de execução, importando todas as bibliotecas essenciais ao projeto, organizadas por finalidade:\n",
    "\n",
    "- **Utilitários e Bibliotecas Padrão:** `time`, `pickle`\n",
    "- **Manipulação de Dados:** `pandas`, `numpy`, `scipy`\n",
    "- **Visualização de Dados:** `matplotlib`, `seaborn`\n",
    "- **Machine Learning (Recomendação):** `implicit`\n",
    "\n",
    "---\n"
   ]
  },
  {
   "cell_type": "code",
   "execution_count": 1,
   "id": "c8a4e4bd",
   "metadata": {},
   "outputs": [
    {
     "data": {
      "text/markdown": [
       "**🟢 Ambiente configurado e bibliotecas importadas com sucesso!**"
      ],
      "text/plain": [
       "<IPython.core.display.Markdown object>"
      ]
     },
     "metadata": {},
     "output_type": "display_data"
    }
   ],
   "source": [
    "# --- CÉLULA 01: CONFIGURAÇÃO DE AMBIENTE E IMPORTAÇÕES ---\n",
    "\n",
    "# --- Imports Padrão e Sistema ---\n",
    "import os\n",
    "import time\n",
    "import pickle\n",
    "import warnings\n",
    "\n",
    "# --- Processamento de Dados e Visualização ---\n",
    "import pandas as pd\n",
    "import numpy as np\n",
    "import matplotlib.pyplot as plt\n",
    "import seaborn as sns\n",
    "from scipy.sparse import coo_matrix # Essencial para a biblioteca 'implicit'\n",
    "\n",
    "# --- Ambiente Jupyter / IPython ---\n",
    "from IPython.display import display, Markdown\n",
    "\n",
    "# --- Machine Learning (Biblioteca Implicit) ---\n",
    "from implicit.als import AlternatingLeastSquares\n",
    "\n",
    "# --- Controle de Warnings ---\n",
    "# Ignora avisos que podem poluir a saída do notebook, mantendo o relatório limpo.\n",
    "warnings.filterwarnings(\"ignore\")\n",
    "\n",
    "display(Markdown(\"**🟢 Ambiente configurado e bibliotecas importadas com sucesso!**\"))\n"
   ]
  },
  {
   "cell_type": "markdown",
   "id": "30ea88ef",
   "metadata": {},
   "source": [
    "## 2️⃣ Carregamento e Pré-Processamento dos Dados\n",
    "\n",
    "Esta etapa realiza o carregamento do dataset principal, contendo aproximadamente **32 milhões de interações** registradas no arquivo `ratings.csv`.\n",
    "\n",
    "Durante o pré-processamento, são aplicadas as seguintes operações para preparar os dados para a fase de modelagem:\n",
    "\n",
    "1.  **Renomeação das Colunas:** Ajuste para um padrão claro e consistente: `[user_id, item_id, rating, timestamp]`.\n",
    "2.  **Conversão de Tipos:** IDs de usuários e itens são convertidos para `string`, garantindo a consistência dos dados antes da transformação para o modelo.\n",
    "\n",
    "---\n"
   ]
  },
  {
   "cell_type": "code",
   "execution_count": 2,
   "id": "7e14b1ea",
   "metadata": {},
   "outputs": [
    {
     "data": {
      "text/markdown": [
       "🟡 *Tentando carregar o dataset a partir de:* `../dados/ml-32m/ratings.csv`"
      ],
      "text/plain": [
       "<IPython.core.display.Markdown object>"
      ]
     },
     "metadata": {},
     "output_type": "display_data"
    },
    {
     "data": {
      "text/markdown": [
       "\n",
       "---\n",
       "\n",
       "🟢 **Dataset Carregado com Sucesso!**\n",
       "\n",
       "- **Número Total de Interações:** `32,000,204`\n",
       "- **Usuários Únicos:** `200,948`\n",
       "- **Itens Únicos:** `84,432`\n",
       "\n",
       "---\n",
       "\n",
       "**🧾 Amostra dos Dados Processados:**\n"
      ],
      "text/plain": [
       "<IPython.core.display.Markdown object>"
      ]
     },
     "metadata": {},
     "output_type": "display_data"
    },
    {
     "data": {
      "application/vnd.microsoft.datawrangler.viewer.v0+json": {
       "columns": [
        {
         "name": "index",
         "rawType": "int64",
         "type": "integer"
        },
        {
         "name": "user_id",
         "rawType": "object",
         "type": "string"
        },
        {
         "name": "item_id",
         "rawType": "object",
         "type": "string"
        },
        {
         "name": "rating",
         "rawType": "float64",
         "type": "float"
        },
        {
         "name": "timestamp",
         "rawType": "int64",
         "type": "integer"
        }
       ],
       "ref": "e9e4938e-0751-4ce5-bc7e-8b3e21bd04a1",
       "rows": [
        [
         "0",
         "1",
         "17",
         "4.0",
         "944249077"
        ],
        [
         "1",
         "1",
         "25",
         "1.0",
         "944250228"
        ],
        [
         "2",
         "1",
         "29",
         "2.0",
         "943230976"
        ],
        [
         "3",
         "1",
         "30",
         "5.0",
         "944249077"
        ],
        [
         "4",
         "1",
         "32",
         "5.0",
         "943228858"
        ]
       ],
       "shape": {
        "columns": 4,
        "rows": 5
       }
      },
      "text/html": [
       "<div>\n",
       "<style scoped>\n",
       "    .dataframe tbody tr th:only-of-type {\n",
       "        vertical-align: middle;\n",
       "    }\n",
       "\n",
       "    .dataframe tbody tr th {\n",
       "        vertical-align: top;\n",
       "    }\n",
       "\n",
       "    .dataframe thead th {\n",
       "        text-align: right;\n",
       "    }\n",
       "</style>\n",
       "<table border=\"1\" class=\"dataframe\">\n",
       "  <thead>\n",
       "    <tr style=\"text-align: right;\">\n",
       "      <th></th>\n",
       "      <th>user_id</th>\n",
       "      <th>item_id</th>\n",
       "      <th>rating</th>\n",
       "      <th>timestamp</th>\n",
       "    </tr>\n",
       "  </thead>\n",
       "  <tbody>\n",
       "    <tr>\n",
       "      <th>0</th>\n",
       "      <td>1</td>\n",
       "      <td>17</td>\n",
       "      <td>4.0</td>\n",
       "      <td>944249077</td>\n",
       "    </tr>\n",
       "    <tr>\n",
       "      <th>1</th>\n",
       "      <td>1</td>\n",
       "      <td>25</td>\n",
       "      <td>1.0</td>\n",
       "      <td>944250228</td>\n",
       "    </tr>\n",
       "    <tr>\n",
       "      <th>2</th>\n",
       "      <td>1</td>\n",
       "      <td>29</td>\n",
       "      <td>2.0</td>\n",
       "      <td>943230976</td>\n",
       "    </tr>\n",
       "    <tr>\n",
       "      <th>3</th>\n",
       "      <td>1</td>\n",
       "      <td>30</td>\n",
       "      <td>5.0</td>\n",
       "      <td>944249077</td>\n",
       "    </tr>\n",
       "    <tr>\n",
       "      <th>4</th>\n",
       "      <td>1</td>\n",
       "      <td>32</td>\n",
       "      <td>5.0</td>\n",
       "      <td>943228858</td>\n",
       "    </tr>\n",
       "  </tbody>\n",
       "</table>\n",
       "</div>"
      ],
      "text/plain": [
       "  user_id item_id  rating  timestamp\n",
       "0       1      17     4.0  944249077\n",
       "1       1      25     1.0  944250228\n",
       "2       1      29     2.0  943230976\n",
       "3       1      30     5.0  944249077\n",
       "4       1      32     5.0  943228858"
      ]
     },
     "metadata": {},
     "output_type": "display_data"
    }
   ],
   "source": [
    "# --- CÉLULA 02: CONFIGURAÇÃO E CARREGAMENTO DOS DADOS (ML-32M) ---\n",
    "\n",
    "# Caminho relativo para o dataset\n",
    "file_path = '../dados/ml-32m/ratings.csv'\n",
    "\n",
    "# Mensagem de status inicial\n",
    "display(Markdown(f\"🟡 *Tentando carregar o dataset a partir de:* `{file_path}`\"))\n",
    "\n",
    "try:\n",
    "    # Verificação explícita de existência do arquivo para um erro mais claro.\n",
    "    if not os.path.exists(file_path):\n",
    "        raise FileNotFoundError(f\"O caminho especificado não existe: {file_path}\")\n",
    "\n",
    "    # Carrega as interações. A linha 'nrows' é excelente para testes locais rápidos.\n",
    "    ratings_df = pd.read_csv(file_path, sep=',')\n",
    "    # ratings_df = pd.read_csv(file_path, sep=',', nrows=100000) # <- Para testes locais\n",
    "\n",
    "    # Renomeia as colunas para um padrão consistente\n",
    "    ratings_df.columns = ['user_id', 'item_id', 'rating', 'timestamp']\n",
    "\n",
    "    # Converte os IDs para string como um passo de limpeza inicial.\n",
    "    # A conversão para os IDs numéricos que a 'implicit' precisa será feita na célula de modelagem.\n",
    "    ratings_df['user_id'] = ratings_df['user_id'].astype(str)\n",
    "    ratings_df['item_id'] = ratings_df['item_id'].astype(str)\n",
    "\n",
    "    # --- SAÍDA FORMATADA DE SUCESSO ---\n",
    "    output_markdown = f\"\"\"\n",
    "---\n",
    "\n",
    "🟢 **Dataset Carregado com Sucesso!**\n",
    "\n",
    "- **Número Total de Interações:** `{len(ratings_df):,}`\n",
    "- **Usuários Únicos:** `{ratings_df['user_id'].nunique():,}`\n",
    "- **Itens Únicos:** `{ratings_df['item_id'].nunique():,}`\n",
    "\n",
    "---\n",
    "\n",
    "**🧾 Amostra dos Dados Processados:**\n",
    "\"\"\"\n",
    "    display(Markdown(output_markdown))\n",
    "    display(ratings_df.head())\n",
    "\n",
    "except FileNotFoundError:\n",
    "    display(Markdown(f\"\"\"\n",
    "---\n",
    "\n",
    "🔴 **ERRO CRÍTICO:** O arquivo `ratings.csv` não foi encontrado.\n",
    "Verifique se o caminho está correto.\n",
    "\n",
    "📂 **Caminho buscado:** `{file_path}`\n",
    "\n",
    "---\n",
    "\"\"\"))\n",
    "\n",
    "except Exception as e:\n",
    "    display(Markdown(f\"\"\"\n",
    "---\n",
    "\n",
    "🔴 **ERRO INESPERADO:** Falha ao carregar ou processar `ratings.csv`.\n",
    "💬 **Detalhes do erro:** `{e}`\n",
    "\n",
    "---\n",
    "\"\"\"))"
   ]
  },
  {
   "cell_type": "markdown",
   "id": "024002e4",
   "metadata": {},
   "source": [
    "## 3️⃣ Carregamento de Metadados (Títulos e Gêneros)\n",
    "\n",
    "Com as interações carregadas, o próximo passo é carregar os metadados dos itens. As previsões do modelo retornam apenas o `item_id`, então precisamos de um \"mapa\" para traduzir esses IDs de volta para seus títulos e gêneros correspondentes.\n",
    "\n",
    "Esta célula carrega o arquivo `movies.csv` e cria dois dicionários (`id_to_titulo` e `id_to_generos`) que serão usados tanto na fase de testes quanto na exportação final do modelo.\n",
    "\n",
    "---"
   ]
  },
  {
   "cell_type": "code",
   "execution_count": 3,
   "id": "5c8c4c54",
   "metadata": {},
   "outputs": [
    {
     "data": {
      "text/markdown": [
       "🟡 *Carregando metadados de:* `../dados/ml-32m/movies.csv`"
      ],
      "text/plain": [
       "<IPython.core.display.Markdown object>"
      ]
     },
     "metadata": {},
     "output_type": "display_data"
    },
    {
     "data": {
      "text/markdown": [
       "\n",
       "> ### ✅ Mapeamentos de Metadados Carregados!\n",
       ">\n",
       "> - **Total de Itens Mapeados:** `87,585`\n",
       "> - **Exemplo (ID `1`):** *Toy Story (1995)*\n"
      ],
      "text/plain": [
       "<IPython.core.display.Markdown object>"
      ]
     },
     "metadata": {},
     "output_type": "display_data"
    }
   ],
   "source": [
    "# --- CÉLULA 03: CARREGAMENTO DOS METADADOS (MAPA DE TÍTULOS E GÊNEROS) ---\n",
    "\n",
    "file_path_item = '../dados/ml-32m/movies.csv'\n",
    "display(Markdown(f\"🟡 *Carregando metadados de:* `{file_path_item}`\"))\n",
    "\n",
    "try:\n",
    "    items_df = pd.read_csv(\n",
    "        file_path_item, \n",
    "        sep=',', \n",
    "        encoding='utf-8',\n",
    "        usecols=['movieId', 'title', 'genres'] \n",
    "    )\n",
    "    \n",
    "    items_df.columns = ['item_id', 'titulo_topico', 'generos']\n",
    "    items_df['item_id'] = items_df['item_id'].astype(str) \n",
    "\n",
    "    # Criar os dois dicionários de mapeamento\n",
    "    id_to_titulo = items_df.set_index('item_id')['titulo_topico'].to_dict()\n",
    "    id_to_generos = items_df.set_index('item_id')['generos'].to_dict()\n",
    "\n",
    "    # --- SAÍDA FORMATADA DE SUCESSO ---\n",
    "    total_mapeado = len(id_to_titulo)\n",
    "    exemplo_titulo = id_to_titulo.get('1', 'Não encontrado')\n",
    "    exemplo_generos = id_to_generos.get('1', 'Não encontrado')\n",
    "\n",
    "    success_output = f\"\"\"\n",
    "> ### ✅ Mapeamentos de Metadados Carregados!\n",
    ">\n",
    "> - **Total de Itens Mapeados:** `{total_mapeado:,}`\n",
    "> - **Exemplo (ID `1`):** *{exemplo_titulo}*\n",
    "\"\"\"\n",
    "    display(Markdown(success_output))\n",
    "\n",
    "except Exception as e:\n",
    "    display(Markdown(f\"🔴 **ERRO:** Falha ao carregar `movies.csv`. Detalhes: {e}\"))\n",
    "    "
   ]
  },
  {
   "cell_type": "markdown",
   "id": "87cccc7c",
   "metadata": {},
   "source": [
    "## 4️⃣ Treinamento e Exportação do Modelo (Implicit/ALS)\n",
    "\n",
    "Com os dados carregados, esta é a etapa central do notebook. Aqui, preparamos os dados para o formato exigido pela biblioteca `implicit`, treinamos o modelo e exportamos o resultado para ser usado pela nossa aplicação Streamlit.\n",
    "\n",
    "O processo consiste em três etapas principais:\n",
    "\n",
    "1.  **Preparação dos Dados:** A biblioteca `implicit` trabalha com matrizes esparsas e IDs numéricos. Nesta etapa, convertemos nossos `user_id` e `item_id` (que são strings) para códigos numéricos internos e montamos a matriz de interações. As notas (`rating`) serão usadas como um \"peso\" ou \"confiança\" para cada interação.\n",
    "\n",
    "2.  **Treinamento do Modelo:** Utilizamos o algoritmo **ALS (Alternating Least Squares)**, um método de fatoração de matriz extremamente rápido e escalável, ideal para datasets grandes.\n",
    "\n",
    "3.  **Exportação do Artefato:** Salvamos o modelo treinado junto com os \"mapas\" de conversão de IDs em um único arquivo `.pkl`. É crucial salvar esses mapas para que, no futuro, possamos traduzir as recomendações de volta para os IDs originais dos usuários e itens.\n",
    "\n",
    "---"
   ]
  },
  {
   "cell_type": "code",
   "execution_count": 4,
   "id": "f824932c",
   "metadata": {},
   "outputs": [
    {
     "data": {
      "text/markdown": [
       "🟡 *Preparando os dados para o formato de matriz esparsa...*"
      ],
      "text/plain": [
       "<IPython.core.display.Markdown object>"
      ]
     },
     "metadata": {},
     "output_type": "display_data"
    },
    {
     "data": {
      "text/markdown": [
       "🟢 *Dados prontos para o treinamento.*"
      ],
      "text/plain": [
       "<IPython.core.display.Markdown object>"
      ]
     },
     "metadata": {},
     "output_type": "display_data"
    },
    {
     "data": {
      "text/markdown": [
       "\n",
       "⏳ **Iniciando o treinamento do modelo ALS...** *(Esta etapa é rápida!)*"
      ],
      "text/plain": [
       "<IPython.core.display.Markdown object>"
      ]
     },
     "metadata": {},
     "output_type": "display_data"
    },
    {
     "data": {
      "application/vnd.jupyter.widget-view+json": {
       "model_id": "85a06f01d94e48c4975a6febf1800cbe",
       "version_major": 2,
       "version_minor": 0
      },
      "text/plain": [
       "  0%|          | 0/15 [00:00<?, ?it/s]"
      ]
     },
     "metadata": {},
     "output_type": "display_data"
    },
    {
     "data": {
      "text/markdown": [
       "\n",
       "> ### ✅ Modelo ALS (Implicit) Treinado e Exportado!\n",
       ">\n",
       "> - **Arquivo Gerado:** `../implicit_als_model.pkl`\n",
       "> - **Tempo de Treinamento:** `248.07` segundos\n"
      ],
      "text/plain": [
       "<IPython.core.display.Markdown object>"
      ]
     },
     "metadata": {},
     "output_type": "display_data"
    }
   ],
   "source": [
    "# --- CÉLULA 04: PREPARAÇÃO, TREINAMENTO E EXPORTAÇÃO (IMPLICIT/ALS) ---\n",
    "\n",
    "# 1. PREPARAÇÃO DOS DADOS PARA O FORMATO DA 'IMPLICIT'\n",
    "display(Markdown(\"🟡 *Preparando os dados para o formato de matriz esparsa...*\"))\n",
    "\n",
    "# A biblioteca 'implicit' trabalha com IDs numéricos (inteiros) sequenciais.\n",
    "# Usamos o 'pd.Categorical' para criar um \"mapa\" que converte nossos IDs\n",
    "# de string para códigos numéricos internos (0, 1, 2...).\n",
    "ratings_df['user_cat'] = pd.Categorical(ratings_df['user_id'])\n",
    "ratings_df['item_cat'] = pd.Categorical(ratings_df['item_id'])\n",
    "\n",
    "# Extraímos os códigos numéricos para usar na matriz\n",
    "user_codes = ratings_df['user_cat'].cat.codes\n",
    "item_codes = ratings_df['item_cat'].cat.codes\n",
    "\n",
    "# Criamos a matriz de interações esparsa.\n",
    "# Formato: (dados, (linha, coluna)) -> (nota, (código_usuário, código_item))\n",
    "# As notas (ratings) servem como um valor de \"confiança\" para o algoritmo ALS.\n",
    "user_item_matrix = coo_matrix((ratings_df['rating'], (user_codes, item_codes)))\n",
    "\n",
    "display(Markdown(\"🟢 *Dados prontos para o treinamento.*\"))\n",
    "\n",
    "\n",
    "# 2. TREINAMENTO DO MODELO ALS (Alternating Least Squares)\n",
    "display(Markdown(\"\\n⏳ **Iniciando o treinamento do modelo ALS...** *(Esta etapa é rápida!)*\"))\n",
    "\n",
    "# Instanciamos o modelo com hiperparâmetros comuns.\n",
    "# 'factors' é o número de dimensões latentes (similar ao SVD).\n",
    "model_als = AlternatingLeastSquares(factors=100, regularization=0.01, iterations=15, random_state=42)\n",
    "\n",
    "# O treino com ALS é muito mais rápido que o SVD da Surprise.\n",
    "start_time_fit = time.time()\n",
    "model_als.fit(user_item_matrix)\n",
    "end_time_fit = time.time()\n",
    "total_time_fit = end_time_fit - start_time_fit\n",
    "\n",
    "\n",
    "# 3. EXPORTAÇÃO DO MODELO E DOS MAPAS\n",
    "# É crucial salvar os mapeamentos de IDs junto com o modelo.\n",
    "# O objeto '.cat' do pandas contém os dicionários de conversão necessários.\n",
    "model_data = {\n",
    "    'model': model_als,\n",
    "    'user_map': ratings_df['user_cat'].cat, # Contém o mapa de usuários\n",
    "    'item_map': ratings_df['item_cat'].cat, # Contém o mapa de itens\n",
    "    'user_item_matrix': user_item_matrix, # Necessário para a função de recomendação\n",
    "    'id_to_titulo': id_to_titulo,\n",
    "    'id_to_generos': id_to_generos\n",
    "}\n",
    "\n",
    "output_path = '../implicit_als_model.pkl' # Novo nome de arquivo\n",
    "with open(output_path, 'wb') as f:\n",
    "    pickle.dump(model_data, f)\n",
    "\n",
    "# --- SAÍDA FINAL FORMATADA ---\n",
    "final_output = f\"\"\"\n",
    "> ### ✅ Modelo ALS (Implicit) Treinado e Exportado!\n",
    ">\n",
    "> - **Arquivo Gerado:** `{output_path}`\n",
    "> - **Tempo de Treinamento:** `{total_time_fit:.2f}` segundos\n",
    "\"\"\"\n",
    "display(Markdown(final_output))"
   ]
  },
  {
   "cell_type": "markdown",
   "id": "a1ccf3e7",
   "metadata": {},
   "source": [
    "## 5️⃣ Análise Visual da Distribuição das Notas\n",
    "\n",
    "Antes de treinar o modelo final, é essencial compreender a natureza dos dados de entrada. Esta célula visualiza a **distribuição das 32 milhões de avaliações** (`ratings`) para identificar tendências e padrões de comportamento dos usuários.\n",
    "\n",
    "O gráfico **Box Plot** resume essa distribuição:\n",
    "\n",
    "- A **linha central** representa a **mediana** (50% das notas estão abaixo e 50% acima).\n",
    "- A **caixa (IQR)** mostra o intervalo onde se concentram os 50% centrais das notas.\n",
    "- As **hastes (whiskers)** indicam a amplitude geral das avaliações.\n",
    "\n",
    "A análise visual e estatística nos permite observar se há um \"viés de positividade\" — uma tendência dos usuários a darem notas mais altas. Entender essa característica é importante para interpretar corretamente o comportamento do modelo.\n",
    "\n",
    "---"
   ]
  },
  {
   "cell_type": "code",
   "execution_count": 5,
   "id": "5d5acad5",
   "metadata": {},
   "outputs": [
    {
     "data": {
      "image/png": "[encoded data removed]",
      "text/plain": [
       "<Figure size 1000x600 with 1 Axes>"
      ]
     },
     "metadata": {},
     "output_type": "display_data"
    },
    {
     "data": {
      "text/markdown": [
       "\n",
       "---\n",
       "\n",
       "**📊 Análise Estatística da Distribuição**\n",
       "\n",
       "A tabela abaixo complementa o box plot, mostrando os valores numéricos exatos da **média**, **mediana (50%)**, **desvio padrão** e **quartis** da distribuição das notas.\n",
       "\n",
       "```\n",
       "count   32,000,204.00\n",
       "mean             3.54\n",
       "std              1.06\n",
       "min              0.50\n",
       "25%              3.00\n",
       "50%              3.50\n",
       "75%              4.00\n",
       "max              5.00 \n",
       "\n",
       "```\n",
       "---\n"
      ],
      "text/plain": [
       "<IPython.core.display.Markdown object>"
      ]
     },
     "metadata": {},
     "output_type": "display_data"
    }
   ],
   "source": [
    "# --- CÉLULA 05: ANÁLISE VISUAL - DISTRIBUIÇÃO DAS NOTAS (RATINGS) ---\n",
    "\n",
    "# 1. CONFIGURAÇÃO DO ESTILO VISUAL\n",
    "sns.set_style(\"whitegrid\")\n",
    "plt.figure(figsize=(10, 6))\n",
    "\n",
    "# 2. CRIAÇÃO DO BOX PLOT\n",
    "sns.boxplot(y=ratings_df['rating'], color='#4CAF50', width=0.3)\n",
    "\n",
    "# 3. TÍTULOS E RÓTULOS\n",
    "plt.title('Distribuição das Notas (Ratings) - Dataset MovieLens 32M', fontsize=16, pad=20)\n",
    "plt.ylabel('Nota (Rating)', fontsize=12)\n",
    "plt.xlabel('Todas as 32 milhões de avaliações', fontsize=12)\n",
    "plt.yticks(np.arange(0.5, 5.5, 0.5))\n",
    "plt.grid(axis='x')\n",
    "\n",
    "plt.show()\n",
    "\n",
    "# --- 4. ANÁLISE ESTATÍSTICA COMPLEMENTAR (COM FORMATAÇÃO) ---\n",
    "\n",
    "# Configura o pandas para exibir números de ponto flutuante com 2 casas decimais\n",
    "# e números inteiros sem o '.0'. Isso desativa a notação científica.\n",
    "pd.options.display.float_format = '{:,.2f}'.format\n",
    "\n",
    "# Agora, ao chamar .describe(), a saída já virá formatada.\n",
    "stats_df = ratings_df['rating'].describe()\n",
    "\n",
    "# Converte o resultado formatado para uma string\n",
    "stats_string = stats_df.to_string()\n",
    "\n",
    "# Cria o output em formato Markdown\n",
    "output_markdown = f\"\"\"\n",
    "---\n",
    "\n",
    "**📊 Análise Estatística da Distribuição**\n",
    "\n",
    "A tabela abaixo complementa o box plot, mostrando os valores numéricos exatos da **média**, **mediana (50%)**, **desvio padrão** e **quartis** da distribuição das notas.\n",
    "\n",
    "```\n",
    "{stats_string} \n",
    "\n",
    "```\n",
    "---\n",
    "\"\"\"\n",
    "display(Markdown(output_markdown))\n"
   ]
  },
  {
   "cell_type": "markdown",
   "id": "ac53d804",
   "metadata": {},
   "source": [
    "## 6️⃣ Prova de Robustez — Previsões para um “Usuário Frio”\n",
    "\n",
    "Um teste crucial é verificar o desempenho do modelo com **usuários frios** (*cold start users*) — aqueles com poucas interações. Um modelo fraco tenderia a gerar scores de afinidade muito similares e baixos para todos os itens, sem conseguir diferenciar suas características.\n",
    "\n",
    "Nesta célula, avaliamos o modelo **ALS treinado** gerando previsões para o `user_id = '1'`, um usuário real do dataset. O objetivo é observar se há **variação significativa nos scores de afinidade** previstos para diferentes itens.\n",
    "\n",
    "Uma variação clara comprova que o modelo aprendeu a capturar as nuances de cada item através de seus **vetores latentes**, personalizando as recomendações de forma inteligente.\n",
    "\n",
    "---"
   ]
  },
  {
   "cell_type": "code",
   "execution_count": 6,
   "id": "ee2fa18a",
   "metadata": {},
   "outputs": [
    {
     "data": {
      "text/markdown": [
       "**🔮 Scores de Afinidade para o Usuário `1` (Usuário Frio)**"
      ],
      "text/plain": [
       "<IPython.core.display.Markdown object>"
      ]
     },
     "metadata": {},
     "output_type": "display_data"
    },
    {
     "data": {
      "text/markdown": [
       "| Título do Tópico                  |   Score de Afinidade |\n",
       "|:----------------------------------|---------------------:|\n",
       "| Race the Sun (1996)               |               0.0145 |\n",
       "| Hideaway (1995)                   |              -0.0233 |\n",
       "| I Love Trouble (1994)             |               0.0028 |\n",
       "| Terminator 2: Judgment Day (1991) |               0.5065 |\n",
       "| Pulp Fiction (1994)               |               0.6187 |\n",
       "\n",
       "*__Nota:__ A variação nos scores demonstra que o modelo está diferenciando os itens.*"
      ],
      "text/plain": [
       "<IPython.core.display.Markdown object>"
      ]
     },
     "metadata": {},
     "output_type": "display_data"
    }
   ],
   "source": [
    "# --- CÉLULA 06: PROVA DE ROBUSTEZ - PREVISÕES PARA USUÁRIO FRIO (IMPLICIT) ---\n",
    "\n",
    "# 1. Definir o ID do usuário e a lista de itens para teste\n",
    "user_id_teste = '1'\n",
    "item_ids_teste = ['120', '240', '360', '589', '296']\n",
    "\n",
    "# >>>>> INÍCIO DA CORREÇÃO <<<<<\n",
    "# Recria os objetos de mapeamento a partir do DataFrame.\n",
    "# Eles foram criados na célula de treinamento e estão salvos como um tipo 'category'.\n",
    "user_map = ratings_df['user_cat'].cat\n",
    "item_map = ratings_df['item_cat'].cat\n",
    "# >>>>> FIM DA CORREÇÃO <<<<<\n",
    "\n",
    "# 2. Apresentação inicial\n",
    "display(Markdown(f\"**🔮 Scores de Afinidade para o Usuário `{user_id_teste}` (Usuário Frio)**\"))\n",
    "\n",
    "# 3. Geração das Previsões (o resto do código agora funcionará)\n",
    "results_list = []\n",
    "try:\n",
    "    # O modelo ALS trabalha com IDs numéricos internos.\n",
    "    user_id_interno = user_map.categories.get_loc(user_id_teste)\n",
    "    \n",
    "    # Pegamos o vetor latente para este usuário\n",
    "    user_vector = model_als.user_factors[user_id_interno]\n",
    "\n",
    "    for item_id in item_ids_teste:\n",
    "        titulo = id_to_titulo.get(item_id, f\"ID {item_id} (Título Desconhecido)\")\n",
    "        \n",
    "        if item_id in item_map.categories:\n",
    "            item_id_interno = item_map.categories.get_loc(item_id)\n",
    "            item_vector = model_als.item_factors[item_id_interno]\n",
    "            \n",
    "            # O \"score\" é o produto escalar (dot product) dos dois vetores.\n",
    "            score = user_vector.dot(item_vector)\n",
    "            \n",
    "            results_list.append({'Título do Tópico': titulo, 'Score de Afinidade': score})\n",
    "        else:\n",
    "            results_list.append({'Título do Tópico': titulo, 'Score de Afinidade': 'Item não encontrado'})\n",
    "\n",
    "except KeyError:\n",
    "    display(Markdown(f\"🔴 **Aviso:** Usuário `{user_id_teste}` não encontrado no conjunto de treino.\"))\n",
    "\n",
    "# 4. Criação e formatação da tabela de resultados\n",
    "if results_list:\n",
    "    results_df = pd.DataFrame(results_list)\n",
    "    if pd.api.types.is_numeric_dtype(results_df['Score de Afinidade']):\n",
    "        results_df['Score de Afinidade'] = results_df['Score de Afinidade'].map('{:.4f}'.format)\n",
    "    results_table = results_df.to_markdown(index=False)\n",
    "    final_note = \"\\n\\n*__Nota:__ A variação nos scores demonstra que o modelo está diferenciando os itens.*\"\n",
    "    display(Markdown(results_table + final_note))\n",
    "    "
   ]
  },
  {
   "cell_type": "markdown",
   "id": "035db0a0",
   "metadata": {},
   "source": [
    "## 7️⃣ Teste de Previsão para um \"Usuário Ativo\"\n",
    "\n",
    "Como contraponto ao teste anterior, agora verificamos as previsões para um **usuário ativo** (`user_id='1000'`), alguém com um histórico de avaliações mais extenso no dataset.\n",
    "\n",
    "Para um usuário com mais dados, esperamos que o modelo **ALS** tenha aprendido suas preferências de forma mais precisa. Os scores de afinidade devem refletir um **perfil de gosto claro**, sendo mais altos para itens que se alinham às suas preferências.\n",
    "\n",
    "O objetivo é confirmar que os scores previstos são **consistentes com um perfil de gosto específico**, validando a capacidade de **personalização** do modelo.\n",
    "\n",
    "---"
   ]
  },
  {
   "cell_type": "code",
   "execution_count": 7,
   "id": "1230cfee",
   "metadata": {},
   "outputs": [
    {
     "data": {
      "text/markdown": [
       "**🔮 Scores de Afinidade para o Usuário `1000` (Usuário Ativo)**"
      ],
      "text/plain": [
       "<IPython.core.display.Markdown object>"
      ]
     },
     "metadata": {},
     "output_type": "display_data"
    },
    {
     "data": {
      "text/markdown": [
       "| Título do Tópico                  |   Score de Afinidade |\n",
       "|:----------------------------------|---------------------:|\n",
       "| Race the Sun (1996)               |               0.0004 |\n",
       "| Hideaway (1995)                   |              -0.0108 |\n",
       "| I Love Trouble (1994)             |              -0.0076 |\n",
       "| Terminator 2: Judgment Day (1991) |              -0.0244 |\n",
       "| Pulp Fiction (1994)               |              -0.1364 |\n",
       "\n",
       "*__Nota:__ A variação nos scores reflete o perfil de gosto específico que o modelo aprendeu para este usuário ativo, demonstrando sua capacidade de personalização.*"
      ],
      "text/plain": [
       "<IPython.core.display.Markdown object>"
      ]
     },
     "metadata": {},
     "output_type": "display_data"
    }
   ],
   "source": [
    "# --- CÉLULA 07: TESTE DE PREVISÃO PARA USUÁRIO ATIVO (IMPLICIT) ---\n",
    "\n",
    "# 1. Definir o ID do usuário ativo e a lista de itens\n",
    "user_id_teste_ativo = '1000'\n",
    "item_ids_teste = ['120', '240', '360', '589', '296']\n",
    "\n",
    "# Recria os objetos de mapeamento a partir do DataFrame para uso nesta célula\n",
    "user_map = ratings_df['user_cat'].cat\n",
    "item_map = ratings_df['item_cat'].cat\n",
    "\n",
    "# 2. Apresentação inicial\n",
    "display(Markdown(f\"**🔮 Scores de Afinidade para o Usuário `{user_id_teste_ativo}` (Usuário Ativo)**\"))\n",
    "\n",
    "# 3. Geração das Previsões\n",
    "results_list_ativo = []\n",
    "try:\n",
    "    # Mapeia o ID de string para o ID numérico interno do modelo\n",
    "    user_id_interno = user_map.categories.get_loc(user_id_teste_ativo)\n",
    "    user_vector = model_als.user_factors[user_id_interno]\n",
    "\n",
    "    for item_id in item_ids_teste:\n",
    "        titulo = id_to_titulo.get(item_id, f\"ID {item_id} (Título Desconhecido)\")\n",
    "        \n",
    "        if item_id in item_map.categories:\n",
    "            item_id_interno = item_map.categories.get_loc(item_id)\n",
    "            item_vector = model_als.item_factors[item_id_interno]\n",
    "            \n",
    "            # O score é o produto escalar (dot product) dos vetores de usuário e item.\n",
    "            score = user_vector.dot(item_vector)\n",
    "            \n",
    "            results_list_ativo.append({'Título do Tópico': titulo, 'Score de Afinidade': score})\n",
    "        else:\n",
    "            results_list_ativo.append({'Título do Tópico': titulo, 'Score de Afinidade': 'Item não encontrado'})\n",
    "\n",
    "except KeyError:\n",
    "    display(Markdown(f\"🔴 **Aviso:** Usuário `{user_id_teste_ativo}` não encontrado no conjunto de treino.\"))\n",
    "\n",
    "# 4. Montagem e formatação da tabela\n",
    "if results_list_ativo:\n",
    "    results_df_ativo = pd.DataFrame(results_list_ativo)\n",
    "    if pd.api.types.is_numeric_dtype(results_df_ativo['Score de Afinidade']):\n",
    "        results_df_ativo['Score de Afinidade'] = results_df_ativo['Score de Afinidade'].map('{:.4f}'.format)\n",
    "    results_table_ativo = results_df_ativo.to_markdown(index=False)\n",
    "\n",
    "    # 5. Comentário analítico\n",
    "    final_note_ativo = (\n",
    "        \"\\n\\n*__Nota:__ A variação nos scores reflete o perfil de gosto específico \"\n",
    "        \"que o modelo aprendeu para este usuário ativo, demonstrando sua capacidade de personalização.*\"\n",
    "    )\n",
    "\n",
    "    # 6. Exibição do resultado final\n",
    "    display(Markdown(results_table_ativo + final_note_ativo))\n",
    "    "
   ]
  }
 ],
 "metadata": {
  "kernelspec": {
   "display_name": "venv",
   "language": "python",
   "name": "python3"
  },
  "language_info": {
   "codemirror_mode": {
    "name": "ipython",
    "version": 3
   },
   "file_extension": ".py",
   "mimetype": "text/x-python",
   "name": "python",
   "nbconvert_exporter": "python",
   "pygments_lexer": "ipython3",
   "version": "3.11.9"
  }
 },
 "nbformat": 4,
 "nbformat_minor": 5
}
