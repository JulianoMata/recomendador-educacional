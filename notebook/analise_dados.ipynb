{
 "cells": [
  {
   "cell_type": "markdown",
   "id": "71bcc381",
   "metadata": {},
   "source": [
    "<h1 style=\"color:#145A32;\">🎓 Sistema de Recomendação de Conteúdo Educacional</h1>\n",
    "\n",
    "Este Notebook apresenta a validação técnica do modelo de **Filtros Colaborativos (SVD)**, desenvolvido como requisito para o Estágio Supervisionado III.\n",
    "\n",
    "O objetivo é demonstrar a configuração do ambiente, o treinamento do algoritmo e a avaliação de sua performance em um dataset de larga escala, preparando o modelo para ser consumido por uma aplicação interativa.\n",
    "\n",
    "<h3 style=\"color:#4CAF50;\">1. Configuração do Ambiente e Dependências</h3>\n",
    "\n",
    "A célula a seguir prepara o ambiente de execução, importando todas as bibliotecas essenciais para o projeto, organizadas por finalidade:\n",
    "\n",
    "* **Utilitários e Bibliotecas Padrão:** `time` e `pickle`\n",
    "* **Manipulação de Dados:** `pandas`, `numpy`\n",
    "* **Visualização de Dados:** `matplotlib`, `seaborn`\n",
    "* **Machine Learning (Recomendação):** `surprise`\n",
    "\n",
    "---\n"
   ]
  },
  {
   "cell_type": "code",
   "execution_count": 1,
   "id": "c8a4e4bd",
   "metadata": {},
   "outputs": [],
   "source": [
    "# --- CÉLULA 01: CONFIGURAÇÃO DE AMBIENTE E IMPORTAÇÕES ---\n",
    "\n",
    "# --- Imports Padrão, Sistema e Tempo ---\n",
    "import time \n",
    "import pickle # Para salvar/carregar o modelo treinado para o app\n",
    "\n",
    "# --- Imports de Processamento de Dados e Visualização ---\n",
    "import pandas as pd\n",
    "import numpy as np\n",
    "import matplotlib.pyplot as plt\n",
    "import seaborn as sns # Essencial para o Box Plot\n",
    "\n",
    "# --- Imports Específicos do Jupyter/IPython ---\n",
    "from IPython.display import display, Markdown # Para formatar saídas de células com texto rico\n",
    "\n",
    "# --- Imports de Machine Learning (Biblioteca Surprise) ---\n",
    "from surprise import SVD, Dataset, Reader, accuracy\n",
    "from surprise.model_selection import cross_validate"
   ]
  },
  {
   "cell_type": "markdown",
   "id": "30ea88ef",
   "metadata": {},
   "source": [
    "<h2 style=\"color:#4CAF50;\">02. Carregamento e Pré-Processamento dos Dados</h2>\n",
    "\n",
    "A etapa a seguir é responsável pelo carregamento do dataset. Serão lidas as **32 milhões de interações** contidas no arquivo `ratings.csv`, representando o ponto de partida da análise.\n",
    "\n",
    "As seguintes tarefas de pré-processamento serão executadas para garantir a compatibilidade com a biblioteca `scikit-surprise`:\n",
    "1.  **Renomeação das Colunas:** Ajuste para o padrão exigido pela biblioteca: `[user_id, item_id, rating]`.\n",
    "2.  **Conversão de Tipos:** Os IDs de usuários e itens serão convertidos para `string`, um requisito do `Surprise`.\n",
    "\n",
    "---\n"
   ]
  },
  {
   "cell_type": "code",
   "execution_count": 2,
   "id": "7e14b1ea",
   "metadata": {},
   "outputs": [
    {
     "data": {
      "text/markdown": [
       "*Tentando carregar o arquivo em: `../dados/ml-32m/ratings.csv`*"
      ],
      "text/plain": [
       "<IPython.core.display.Markdown object>"
      ]
     },
     "metadata": {},
     "output_type": "display_data"
    },
    {
     "data": {
      "text/markdown": [
       "\n",
       "### ✅ Sucesso no Carregamento do Dataset!\n",
       "\n",
       "* **Número Total de Interações:** `32,000,204`\n",
       "* **Número de Usuários Únicos:** `200,948`\n",
       "* **Número de Itens Únicos:** `84,432`\n",
       "\n",
       "#### Amostra dos Dados Processados:\n"
      ],
      "text/plain": [
       "<IPython.core.display.Markdown object>"
      ]
     },
     "metadata": {},
     "output_type": "display_data"
    },
    {
     "data": {
      "application/vnd.microsoft.datawrangler.viewer.v0+json": {
       "columns": [
        {
         "name": "index",
         "rawType": "int64",
         "type": "integer"
        },
        {
         "name": "user_id",
         "rawType": "object",
         "type": "string"
        },
        {
         "name": "item_id",
         "rawType": "object",
         "type": "string"
        },
        {
         "name": "rating",
         "rawType": "float64",
         "type": "float"
        },
        {
         "name": "timestamp",
         "rawType": "int64",
         "type": "integer"
        }
       ],
       "ref": "c242c05f-a33b-4056-8ec4-5e82ca540d7e",
       "rows": [
        [
         "0",
         "1",
         "17",
         "4.0",
         "944249077"
        ],
        [
         "1",
         "1",
         "25",
         "1.0",
         "944250228"
        ],
        [
         "2",
         "1",
         "29",
         "2.0",
         "943230976"
        ],
        [
         "3",
         "1",
         "30",
         "5.0",
         "944249077"
        ],
        [
         "4",
         "1",
         "32",
         "5.0",
         "943228858"
        ]
       ],
       "shape": {
        "columns": 4,
        "rows": 5
       }
      },
      "text/html": [
       "<div>\n",
       "<style scoped>\n",
       "    .dataframe tbody tr th:only-of-type {\n",
       "        vertical-align: middle;\n",
       "    }\n",
       "\n",
       "    .dataframe tbody tr th {\n",
       "        vertical-align: top;\n",
       "    }\n",
       "\n",
       "    .dataframe thead th {\n",
       "        text-align: right;\n",
       "    }\n",
       "</style>\n",
       "<table border=\"1\" class=\"dataframe\">\n",
       "  <thead>\n",
       "    <tr style=\"text-align: right;\">\n",
       "      <th></th>\n",
       "      <th>user_id</th>\n",
       "      <th>item_id</th>\n",
       "      <th>rating</th>\n",
       "      <th>timestamp</th>\n",
       "    </tr>\n",
       "  </thead>\n",
       "  <tbody>\n",
       "    <tr>\n",
       "      <th>0</th>\n",
       "      <td>1</td>\n",
       "      <td>17</td>\n",
       "      <td>4.0</td>\n",
       "      <td>944249077</td>\n",
       "    </tr>\n",
       "    <tr>\n",
       "      <th>1</th>\n",
       "      <td>1</td>\n",
       "      <td>25</td>\n",
       "      <td>1.0</td>\n",
       "      <td>944250228</td>\n",
       "    </tr>\n",
       "    <tr>\n",
       "      <th>2</th>\n",
       "      <td>1</td>\n",
       "      <td>29</td>\n",
       "      <td>2.0</td>\n",
       "      <td>943230976</td>\n",
       "    </tr>\n",
       "    <tr>\n",
       "      <th>3</th>\n",
       "      <td>1</td>\n",
       "      <td>30</td>\n",
       "      <td>5.0</td>\n",
       "      <td>944249077</td>\n",
       "    </tr>\n",
       "    <tr>\n",
       "      <th>4</th>\n",
       "      <td>1</td>\n",
       "      <td>32</td>\n",
       "      <td>5.0</td>\n",
       "      <td>943228858</td>\n",
       "    </tr>\n",
       "  </tbody>\n",
       "</table>\n",
       "</div>"
      ],
      "text/plain": [
       "  user_id item_id  rating  timestamp\n",
       "0       1      17     4.0  944249077\n",
       "1       1      25     1.0  944250228\n",
       "2       1      29     2.0  943230976\n",
       "3       1      30     5.0  944249077\n",
       "4       1      32     5.0  943228858"
      ]
     },
     "metadata": {},
     "output_type": "display_data"
    }
   ],
   "source": [
    "# --- 02. CONFIGURAÇÃO E CARREGAMENTO DOS DADOS (ML-32M) ---\n",
    "# Caminho Relativo para o dataset:\n",
    "file_path = '../dados/ml-32m/ratings.csv'\n",
    "\n",
    "# Mensagem de status inicial formatada\n",
    "display(Markdown(f\"*Tentando carregar o arquivo em: `{file_path}`*\"))\n",
    "\n",
    "try:\n",
    "    # Carrega as interações (UserID, MovieID, Rating, Timestamp)\n",
    "    ratings_df = pd.read_csv(\n",
    "        file_path, \n",
    "        sep=',' \n",
    "    )\n",
    "    \n",
    "    # Renomeia as colunas para o padrão [user_id, item_id, rating] exigido pelo Surprise\n",
    "    ratings_df.columns = ['user_id', 'item_id', 'rating', 'timestamp']\n",
    "    \n",
    "    # Converte os IDs para STRING para garantir consistência com o Surprise\n",
    "    ratings_df['user_id'] = ratings_df['user_id'].astype(str)\n",
    "    ratings_df['item_id'] = ratings_df['item_id'].astype(str)\n",
    "\n",
    "    # --- SAÍDA FORMATADA ---\n",
    "    output_markdown = f\"\"\"\n",
    "### ✅ Sucesso no Carregamento do Dataset!\n",
    "\n",
    "* **Número Total de Interações:** `{len(ratings_df):,}`\n",
    "* **Número de Usuários Únicos:** `{ratings_df['user_id'].nunique():,}`\n",
    "* **Número de Itens Únicos:** `{ratings_df['item_id'].nunique():,}`\n",
    "\n",
    "#### Amostra dos Dados Processados:\n",
    "\"\"\"\n",
    "    display(Markdown(output_markdown))\n",
    "    \n",
    "    # Exibe o DataFrame de forma elegante\n",
    "    display(ratings_df.head())\n",
    "\n",
    "except FileNotFoundError:\n",
    "    error_message = f\"\"\"\n",
    "<p style=\"color:red; font-weight:bold;\">\n",
    "❌ ERRO CRÍTICO: O arquivo `ratings.csv` não foi encontrado.\n",
    "<br>Verifique se o caminho está correto. Caminho buscado: `{file_path}`\n",
    "</p>\n",
    "\"\"\"\n",
    "    display(Markdown(error_message))\n",
    "    "
   ]
  },
  {
   "cell_type": "markdown",
   "id": "024002e4",
   "metadata": {},
   "source": [
    "<h2 style=\"color:#4CAF50;\">03. Validação Robusta do Modelo (SVD)</h2>\n",
    "\n",
    "Para garantir uma avaliação robusta e estatisticamente confiável do modelo SVD, esta etapa emprega a **Validação Cruzada** (*Cross-Validation*).\n",
    "\n",
    "Diferente de uma única divisão de dados (como 80% para treino e 20% para teste), este método, que é mais demorado porém mais preciso, funciona da seguinte forma:\n",
    "1.  O dataset é dividido em **5 \"folds\"** (partes) de tamanho similar.\n",
    "2.  O modelo SVD é treinado e avaliado **5 vezes** de forma iterativa.\n",
    "3.  Em cada iteração, um *fold* diferente é usado como conjunto de teste, e os 4 restantes são usados para treino.\n",
    "4.  A métrica final de performance (RMSE) é a **média dos resultados** obtidos nas 5 iterações.\n",
    "\n",
    "Essa abordagem minimiza a influência da aleatoriedade na divisão dos dados, fornecendo uma estimativa muito mais precisa da performance do modelo em dados que ele nunca viu.\n",
    "\n",
    "---\n"
   ]
  },
  {
   "cell_type": "code",
   "execution_count": 3,
   "id": "5c8c4c54",
   "metadata": {},
   "outputs": [
    {
     "data": {
      "text/markdown": [
       "*Preparando o DataFrame para o formato do Surprise...*"
      ],
      "text/plain": [
       "<IPython.core.display.Markdown object>"
      ]
     },
     "metadata": {},
     "output_type": "display_data"
    },
    {
     "data": {
      "text/markdown": [
       "*Dados prontos para Validação Cruzada.*"
      ],
      "text/plain": [
       "<IPython.core.display.Markdown object>"
      ]
     },
     "metadata": {},
     "output_type": "display_data"
    },
    {
     "data": {
      "text/markdown": [
       "\n",
       "**Iniciando Validação Cruzada (5-Fold CV)...** *(Esta é a etapa demorada, ~80 minutos)*"
      ],
      "text/plain": [
       "<IPython.core.display.Markdown object>"
      ]
     },
     "metadata": {},
     "output_type": "display_data"
    },
    {
     "name": "stderr",
     "output_type": "stream",
     "text": [
      "d:\\FACULDADE_DOMBOSCO\\Disciplinas\\7_MODULAR\\02-Estagio_Supervisionado_III_IA\\recomendador-educacional\\venv\\Lib\\site-packages\\joblib\\externals\\loky\\process_executor.py:752: UserWarning: A worker stopped while some jobs were given to the executor. This can be caused by a too short worker timeout or by a memory leak.\n",
      "  warnings.warn(\n"
     ]
    },
    {
     "name": "stdout",
     "output_type": "stream",
     "text": [
      "Evaluating RMSE, MAE of algorithm SVD on 5 split(s).\n",
      "\n",
      "                  Fold 1  Fold 2  Fold 3  Fold 4  Fold 5  Mean    Std     \n",
      "RMSE (testset)    0.7779  0.7776  0.7778  0.7781  0.7782  0.7779  0.0002  \n",
      "MAE (testset)     0.5840  0.5837  0.5839  0.5841  0.5842  0.5840  0.0002  \n",
      "Fit time          490.48  498.66  499.14  475.52  399.37  472.63  37.61   \n",
      "Test time         68.38   49.87   57.08   80.63   37.02   58.60   15.00   \n"
     ]
    },
    {
     "data": {
      "text/markdown": [
       "\n",
       "<div style=\"border: 1px solid #4CAF50; border-left: 5px solid #4CAF50; padding: 15px; background-color: #f2fef3;\">\n",
       "    <h3 style=\"color:#145A32; margin-top:0;\">✅ Validação Concluída com Sucesso!</h3>\n",
       "    <ul>\n",
       "        <li><strong>RMSE Médio (5-Fold CV):</strong> <code style=\"font-size: 1.1em; color: #145A32;\">0.7779</code></li>\n",
       "        <li><strong>Desvio Padrão do RMSE:</strong> <code>0.0002</code> (indica alta estabilidade do modelo)</li>\n",
       "        <li><strong>Tempo Total de Execução:</strong> <code>28.44</code> minutos.</li>\n",
       "    </ul>\n",
       "</div>\n"
      ],
      "text/plain": [
       "<IPython.core.display.Markdown object>"
      ]
     },
     "metadata": {},
     "output_type": "display_data"
    }
   ],
   "source": [
    "# --- CÉLULA 03: VALIDAÇÃO CRUZADA (CROSS-VALIDATION) DO SVD ---\n",
    "\n",
    "# 1. PREPARAÇÃO DO DATASET COMPLETO PARA O SURPRISE\n",
    "display(Markdown(\"*Preparando o DataFrame para o formato do Surprise...*\"))\n",
    "reader = Reader(rating_scale=(1, 5))\n",
    "data = Dataset.load_from_df(ratings_df[['user_id', 'item_id', 'rating']], reader)\n",
    "display(Markdown(\"*Dados prontos para Validação Cruzada.*\"))\n",
    "\n",
    "# 2. CONFIGURAÇÃO E EXECUÇÃO DA VALIDAÇÃO CRUZADA\n",
    "algo = SVD(n_factors=100, n_epochs=70, random_state=42) \n",
    "\n",
    "display(Markdown(\"\\n**Iniciando Validação Cruzada (5-Fold CV)...** *(Esta é a etapa demorada, ~80 minutos)*\"))\n",
    "start_time = time.time() \n",
    "\n",
    "# A opção verbose=True já cria uma tabela de progresso bem formatada\n",
    "cv_results = cross_validate(\n",
    "    algo, \n",
    "    data, \n",
    "    measures=['RMSE', 'MAE'], \n",
    "    cv=5, \n",
    "    verbose=True,\n",
    "    n_jobs=4 # Usando 4 núcleos para acelerar o processo\n",
    ")\n",
    "\n",
    "end_time = time.time()\n",
    "\n",
    "# 3. ANÁLISE E APRESENTAÇÃO DOS RESULTADOS FINAIS\n",
    "total_time = end_time - start_time\n",
    "mean_rmse = np.mean(cv_results['test_rmse'])\n",
    "std_rmse = np.std(cv_results['test_rmse'])\n",
    "\n",
    "# --- SAÍDA FINAL FORMATADA ---\n",
    "final_output = f\"\"\"\n",
    "<div style=\"border: 1px solid #4CAF50; border-left: 5px solid #4CAF50; padding: 15px; background-color: #f2fef3;\">\n",
    "    <h3 style=\"color:#145A32; margin-top:0;\">✅ Validação Concluída com Sucesso!</h3>\n",
    "    <ul>\n",
    "        <li><strong>RMSE Médio (5-Fold CV):</strong> <code style=\"font-size: 1.1em; color: #145A32;\">{mean_rmse:.4f}</code></li>\n",
    "        <li><strong>Desvio Padrão do RMSE:</strong> <code>{std_rmse:.4f}</code> (indica alta estabilidade do modelo)</li>\n",
    "        <li><strong>Tempo Total de Execução:</strong> <code>{total_time/60:.2f}</code> minutos.</li>\n",
    "    </ul>\n",
    "</div>\n",
    "\"\"\"\n",
    "\n",
    "display(Markdown(final_output))\n"
   ]
  },
  {
   "cell_type": "markdown",
   "id": "a1ccf3e7",
   "metadata": {},
   "source": [
    "<h2 style=\"color:#4CAF50;\">04. Análise Visual da Distribuição</h2>\n",
    "\n",
    "Antes de avaliar a performance do modelo, é fundamental entender a natureza dos dados de entrada. Esta célula visualiza a **distribuição de todas as 32 milhões de notas** (`ratings`) presentes no dataset para identificar a tendência geral de avaliação dos usuários.\n",
    "\n",
    "O **Box Plot** abaixo oferece um resumo estatístico poderoso dessa distribuição:\n",
    "* A **linha central** na caixa representa a **mediana**, ou seja, a nota que divide o dataset ao meio (50% das notas estão abaixo dela e 50% acima).\n",
    "* A **caixa em si (IQR)** mostra o intervalo onde se concentram os 50% centrais de todas as notas.\n",
    "* As **hastes (whiskers)** mostram o alcance geral das notas no dataset.\n",
    "\n",
    "Esta análise nos permite observar se há um \"viés de positividade\" — uma tendência dos usuários a darem notas mais altas (4 e 5). Entender essa característica é importante, pois estabelece um ponto de referência sobre o comportamento geral dos usuários no sistema.\n",
    "\n",
    "---"
   ]
  },
  {
   "cell_type": "code",
   "execution_count": 4,
   "id": "5d5acad5",
   "metadata": {},
   "outputs": [
    {
     "data": {
      "image/png": "[encoded data removed]",
      "text/plain": [
       "<Figure size 1000x600 with 1 Axes>"
      ]
     },
     "metadata": {},
     "output_type": "display_data"
    },
    {
     "data": {
      "text/markdown": [
       "\n",
       "### Análise Estatística da Distribuição\n",
       "\n",
       "A tabela abaixo complementa o box plot, mostrando os valores numéricos exatos para a média, mediana (50%), desvio padrão e os quartis da distribuição de todas as notas. \n",
       "\n",
       "```\n",
       "count    3.200020e+07\n",
       "mean     3.540396e+00\n",
       "std      1.058986e+00\n",
       "min      5.000000e-01\n",
       "25%      3.000000e+00\n",
       "50%      3.500000e+00\n",
       "75%      4.000000e+00\n",
       "max      5.000000e+00\n",
       "```\n"
      ],
      "text/plain": [
       "<IPython.core.display.Markdown object>"
      ]
     },
     "metadata": {},
     "output_type": "display_data"
    }
   ],
   "source": [
    "# --- CÉLULA 04: ANÁLISE VISUAL: BOX PLOT DA DISTRIBUIÇÃO DE NOTAS (RATING) ---\n",
    "\n",
    "# Garante que o style do Seaborn está ativo para melhor estética\n",
    "sns.set_style(\"whitegrid\") \n",
    "\n",
    "plt.figure(figsize=(10, 6)) # Aumentei um pouco a largura para melhor visualização\n",
    "\n",
    "# Gera o Box Plot para a coluna 'rating' (Notas)\n",
    "sns.boxplot(y=ratings_df['rating'], color='#4CAF50', width=0.3) \n",
    "\n",
    "# Títulos e Labels\n",
    "plt.title('Distribuição de Notas (Ratings) no Dataset MovieLens 32M', fontsize=16, pad=20)\n",
    "plt.ylabel('Nota (Rating)', fontsize=12)\n",
    "plt.xlabel('Todas as 32 Milhões de Avaliações', fontsize=12)\n",
    "plt.yticks(np.arange(0.5, 5.5, 0.5)) # Melhora a escala do eixo Y\n",
    "plt.grid(axis='x') # Remove as linhas de grade horizontais desnecessárias\n",
    "\n",
    "plt.show()\n",
    "\n",
    "\n",
    "# --- SAÍDA FORMATADA DA ANÁLISE ESTATÍSTICA ---\n",
    "\n",
    "# Captura as estatísticas descritivas como uma string bem formatada\n",
    "stats_string = ratings_df['rating'].describe().to_string()\n",
    "\n",
    "# Cria o output em formato Markdown\n",
    "output_markdown = f\"\"\"\n",
    "### Análise Estatística da Distribuição\n",
    "\n",
    "A tabela abaixo complementa o box plot, mostrando os valores numéricos exatos para a média, mediana (50%), desvio padrão e os quartis da distribuição de todas as notas. \n",
    "\n",
    "```\n",
    "{stats_string}\n",
    "```\n",
    "\"\"\"\n",
    "display(Markdown(output_markdown))\n"
   ]
  },
  {
   "cell_type": "markdown",
   "id": "148dc969",
   "metadata": {},
   "source": [
    "<h2 style=\"color:#4CAF50;\">05. Treinamento Final e Prova de Robustez</h2>\n",
    "\n",
    "Após a validação, o próximo passo é treinar o modelo uma última vez utilizando **100% do dataset**. Este processo, realizado através da função `.fit()`, é crucial por dois motivos:\n",
    "\n",
    "1.  **Máximo Aprendizado:** O modelo aprende com a maior quantidade de informação possível, potencializando sua capacidade de generalização.\n",
    "2.  **Habilitação para Previsão:** O treinamento no dataset completo constrói os mapeamentos internos necessários para que a função `.predict(user_id, item_id)` funcione corretamente.\n",
    "\n",
    "### Prova de Robustez: Diferenciação de Previsões\n",
    "\n",
    "O problema inicial, com uma base de dados menor, era que o modelo previa a mesma nota (≈ 3.53) para usuários com poucos dados (frios). Os testes a seguir provam que a migração para a base 32M resolveu essa falha, forçando o modelo a fazer previsões personalizadas e significativas.\n",
    "\n",
    "---"
   ]
  },
  {
   "cell_type": "code",
   "execution_count": 5,
   "id": "f9908176",
   "metadata": {},
   "outputs": [
    {
     "data": {
      "text/markdown": [
       "*Preparando o dataset completo para o treinamento final...*"
      ],
      "text/plain": [
       "<IPython.core.display.Markdown object>"
      ]
     },
     "metadata": {},
     "output_type": "display_data"
    },
    {
     "data": {
      "text/markdown": [
       "\n",
       "**Iniciando o treinamento do modelo SVD com 100% dos dados...** *(Isso pode levar alguns minutos)*"
      ],
      "text/plain": [
       "<IPython.core.display.Markdown object>"
      ]
     },
     "metadata": {},
     "output_type": "display_data"
    },
    {
     "data": {
      "text/markdown": [
       "\n",
       "<div style=\"border: 1px solid #4CAF50; border-left: 5px solid #4CAF50; padding: 15px; background-color: #f2fef3;\">\n",
       "    <h3 style=\"color:#145A32; margin-top:0;\">✅ Modelo Final Treinado!</h3>\n",
       "    <p>O algoritmo SVD foi treinado no dataset completo e agora está pronto para ser usado com a função <code>.predict()</code>.</p>\n",
       "    <ul>\n",
       "        <li><strong>Tempo de Treinamento:</strong> <code>529.31 segundos (8.82 minutos)</code>.</li>\n",
       "    </ul>\n",
       "</div>\n"
      ],
      "text/plain": [
       "<IPython.core.display.Markdown object>"
      ]
     },
     "metadata": {},
     "output_type": "display_data"
    }
   ],
   "source": [
    "# --- CÉLULA 05: TREINAMENTO DO MODELO FINAL PARA PREVISÃO ---\n",
    "\n",
    "# 1. OBTER O CONJUNTO DE TREINO COMPLETO\n",
    "display(Markdown(\"*Preparando o dataset completo para o treinamento final...*\"))\n",
    "final_trainset = data.build_full_trainset()\n",
    "\n",
    "# 2. REINSTANCIAR E TREINAR O MODELO COM OS PARÂMETROS VALIDADOS\n",
    "display(Markdown(\"\\n**Iniciando o treinamento do modelo SVD com 100% dos dados...** *(Isso pode levar alguns minutos)*\"))\n",
    "\n",
    "# Medir o tempo do treinamento final\n",
    "start_time_fit = time.time()\n",
    "\n",
    "# É uma boa prática reinstanciar o algoritmo para garantir um estado limpo.\n",
    "algo = SVD(n_factors=100, n_epochs=70, random_state=42) \n",
    "\n",
    "# Treina o modelo no trainset completo.\n",
    "algo.fit(final_trainset) \n",
    "\n",
    "end_time_fit = time.time()\n",
    "total_time_fit = end_time_fit - start_time_fit\n",
    "\n",
    "# --- SAÍDA FINAL FORMATADA ---\n",
    "success_output = f\"\"\"\n",
    "<div style=\"border: 1px solid #4CAF50; border-left: 5px solid #4CAF50; padding: 15px; background-color: #f2fef3;\">\n",
    "    <h3 style=\"color:#145A32; margin-top:0;\">✅ Modelo Final Treinado!</h3>\n",
    "    <p>O algoritmo SVD foi treinado no dataset completo e agora está pronto para ser usado com a função <code>.predict()</code>.</p>\n",
    "    <ul>\n",
    "        <li><strong>Tempo de Treinamento:</strong> <code>{total_time_fit:.2f} segundos ({total_time_fit/60:.2f} minutos)</code>.</li>\n",
    "    </ul>\n",
    "</div>\n",
    "\"\"\"\n",
    "\n",
    "display(Markdown(success_output))\n"
   ]
  },
  {
   "cell_type": "markdown",
   "id": "86d5bd75",
   "metadata": {},
   "source": [
    "<h2 style=\"color:#4CAF50;\">06. Carregamento de Metadados (Títulos e Gêneros)</h2>\n",
    "\n",
    "Com o modelo treinado, as previsões retornam apenas o `item_id`. Para que as recomendações sejam compreensíveis e ricas em contexto, precisamos traduzir esses identificadores de volta para seus **títulos e gêneros** correspondentes.\n",
    "\n",
    "Esta célula carrega o arquivo `movies.csv`, que contém os metadados dos itens. O objetivo é criar **dois dicionários de mapeamento** (*lookup tables*) para uso futuro:\n",
    "\n",
    "* **`id_to_titulo`**: Um mapa de `item_id` para o `titulo_topico`.\n",
    "* **`id_to_generos`**: Um mapa de `item_id` para os `generos` associados.\n",
    "\n",
    "Esses mapas serão essenciais para enriquecer as previsões no notebook e para salvar o pacote final do modelo que será usado pelo `app.py`.\n",
    "\n",
    "---"
   ]
  },
  {
   "cell_type": "code",
   "execution_count": 6,
   "id": "3da44f38",
   "metadata": {},
   "outputs": [
    {
     "data": {
      "text/markdown": [
       "*Carregando metadados de `../dados/ml-32m/movies.csv`...*"
      ],
      "text/plain": [
       "<IPython.core.display.Markdown object>"
      ]
     },
     "metadata": {},
     "output_type": "display_data"
    },
    {
     "data": {
      "text/markdown": [
       "\n",
       "### ✅ Mapeamentos de Metadados Carregados!\n",
       "\n",
       "* **Total de Itens Mapeados:** `87,585`\n",
       "\n",
       "---\n",
       "**Exemplo de Validação:**\n",
       "* **ID:** `1`\n",
       "* **Título:** *Toy Story (1995)*\n",
       "* **Gêneros:** *Adventure|Animation|Children|Comedy|Fantasy*\n"
      ],
      "text/plain": [
       "<IPython.core.display.Markdown object>"
      ]
     },
     "metadata": {},
     "output_type": "display_data"
    }
   ],
   "source": [
    "# --- CÉLULA 06: CARREGAMENTO DOS METADADOS (MAPA DE TÍTULOS E GÊNEROS) ---\n",
    "\n",
    "file_path_item = '../dados/ml-32m/movies.csv'\n",
    "display(Markdown(f\"*Carregando metadados de `{file_path_item}`...*\"))\n",
    "\n",
    "try:\n",
    "    # Adicionado 'genres' à lista 'usecols'\n",
    "    items_df = pd.read_csv(\n",
    "        file_path_item, \n",
    "        sep=',', \n",
    "        encoding='utf-8',\n",
    "        usecols=['movieId', 'title', 'genres'] \n",
    "    )\n",
    "    \n",
    "    # Renomeado para incluir a nova coluna\n",
    "    items_df.columns = ['item_id', 'titulo_topico', 'generos']\n",
    "    items_df['item_id'] = items_df['item_id'].astype(str) \n",
    "\n",
    "    # Criar os dois dicionários de mapeamento\n",
    "    id_to_titulo = items_df.set_index('item_id')['titulo_topico'].to_dict()\n",
    "    id_to_generos = items_df.set_index('item_id')['generos'].to_dict()\n",
    "\n",
    "    # --- SAÍDA FORMATADA DE SUCESSO ---\n",
    "    total_mapeado = len(id_to_titulo)\n",
    "    exemplo_titulo = id_to_titulo.get('1')\n",
    "    exemplo_generos = id_to_generos.get('1')\n",
    "\n",
    "    success_output = f\"\"\"\n",
    "### ✅ Mapeamentos de Metadados Carregados!\n",
    "\n",
    "* **Total de Itens Mapeados:** `{total_mapeado:,}`\n",
    "\n",
    "---\n",
    "**Exemplo de Validação:**\n",
    "* **ID:** `1`\n",
    "* **Título:** *{exemplo_titulo}*\n",
    "* **Gêneros:** *{exemplo_generos}*\n",
    "\"\"\"\n",
    "    display(Markdown(success_output))\n",
    "\n",
    "except FileNotFoundError:\n",
    "    error_output = f\"\"\"\n",
    "<p style=\"color:red; font-weight:bold;\">\n",
    "❌ ERRO CRÍTICO: O arquivo `movies.csv` não foi encontrado.\n",
    "<br>Verifique se o caminho está correto. Caminho buscado: `{file_path_item}`\n",
    "</p>\n",
    "\"\"\"\n",
    "    display(Markdown(error_output))\n",
    "\n",
    "except Exception as e:\n",
    "    error_output = f\"\"\"\n",
    "<p style=\"color:red; font-weight:bold;\">\n",
    "❌ ERRO INESPERADO: Falha ao carregar ou processar `movies.csv`.\n",
    "<br>Detalhes do Erro: {e}\n",
    "</p>\n",
    "\"\"\"\n",
    "    display(Markdown(error_output))\n",
    "    "
   ]
  },
  {
   "cell_type": "markdown",
   "id": "ac53d804",
   "metadata": {},
   "source": [
    "<h2 style=\"color:#4CAF50;\">07. Prova de Robustez: Previsões para um \"Usuário Frio\"</h2>\n",
    "\n",
    "Um teste crucial para um modelo de recomendação é verificar seu comportamento com \"usuários frios\" (*cold start users*) — aqueles com poucas interações. Um modelo fraco poderia simplesmente prever a média geral de notas para todos os itens.\n",
    "\n",
    "Esta célula testa nosso modelo SVD treinado na base completa. Faremos previsões para o `user_id='1'`, um usuário real do dataset.\n",
    "\n",
    "O objetivo é observar se as previsões para diferentes itens **variam de forma significativa**, demonstrando que o modelo aprendeu a capturar as nuances dos itens (seus fatores latentes), em vez de apenas recorrer a uma média.\n",
    "\n",
    "---"
   ]
  },
  {
   "cell_type": "code",
   "execution_count": 7,
   "id": "ee2fa18a",
   "metadata": {},
   "outputs": [
    {
     "data": {
      "text/markdown": [
       "### 🔮 Previsões de Afinidade para o Aluno `1`"
      ],
      "text/plain": [
       "<IPython.core.display.Markdown object>"
      ]
     },
     "metadata": {},
     "output_type": "display_data"
    },
    {
     "data": {
      "text/markdown": [
       "| Título do Tópico                  |   Nota Prevista |\n",
       "|:----------------------------------|----------------:|\n",
       "| Race the Sun (1996)               |          3.7883 |\n",
       "| Hideaway (1995)                   |          1.9321 |\n",
       "| I Love Trouble (1994)             |          1.7566 |\n",
       "| Terminator 2: Judgment Day (1991) |          5      |\n",
       "| Pulp Fiction (1994)               |          3.9837 |\n",
       "\n",
       "*__Nota:__ A variação nas notas previstas demonstra que o modelo está fazendo previsões personalizadas com base nas características de cada item, e não apenas usando uma média global.*"
      ],
      "text/plain": [
       "<IPython.core.display.Markdown object>"
      ]
     },
     "metadata": {},
     "output_type": "display_data"
    }
   ],
   "source": [
    "# --- CÉLULA 07: PROVA DE ROBUSTEZ - PREVISÕES PARA USUÁRIO FRIO ---\n",
    "\n",
    "# Definir o ID do usuário para o teste\n",
    "user_id_teste = '1'\n",
    "\n",
    "# Lista de IDs de itens (tópicos/filmes) para os quais faremos a previsão\n",
    "item_ids_teste = ['120', '240', '360', '589', '296']\n",
    "\n",
    "# --- APRESENTAÇÃO FORMATADA DOS RESULTADOS ---\n",
    "\n",
    "# Título da Seção de Resultados\n",
    "display(Markdown(f\"### 🔮 Previsões de Afinidade para o Aluno `{user_id_teste}`\"))\n",
    "\n",
    "# Lista para armazenar os resultados antes de formatar\n",
    "results_list = []\n",
    "\n",
    "# Loop para gerar as previsões (sem imprimir nada ainda)\n",
    "for item_id in item_ids_teste:\n",
    "    titulo = id_to_titulo.get(item_id, f\"ID {item_id} (Título Desconhecido)\")\n",
    "    previsao = algo.predict(user_id_teste, item_id)\n",
    "    results_list.append({'Título do Tópico': titulo, 'Nota Prevista': previsao.est})\n",
    "\n",
    "# Criar um DataFrame com os resultados para fácil formatação em tabela\n",
    "results_df = pd.DataFrame(results_list)\n",
    "\n",
    "# Formatar a coluna de notas para 4 casas decimais\n",
    "results_df['Nota Prevista'] = results_df['Nota Prevista'].map('{:.4f}'.format)\n",
    "\n",
    "# Converter o DataFrame para uma tabela em formato Markdown\n",
    "results_table = results_df.to_markdown(index=False)\n",
    "\n",
    "# Nota final de análise\n",
    "final_note = \"\\n\\n*__Nota:__ A variação nas notas previstas demonstra que o modelo está fazendo previsões personalizadas com base nas características de cada item, e não apenas usando uma média global.*\"\n",
    "\n",
    "# Exibir a tabela e a nota final de uma só vez\n",
    "display(Markdown(results_table + final_note))\n"
   ]
  },
  {
   "cell_type": "markdown",
   "id": "035db0a0",
   "metadata": {},
   "source": [
    "<h2 style=\"color:#4CAF50;\">08. Teste de Previsão para um \"Usuário Ativo\"</h2>\n",
    "\n",
    "Como contraponto ao teste anterior, agora verificaremos as previsões para um **usuário ativo** (`user_id='1000'`), alguém com um histórico de avaliações mais extenso no dataset.\n",
    "\n",
    "Para um usuário com mais dados, esperamos que o modelo SVD tenha aprendido suas preferências de forma ainda mais precisa. As previsões devem refletir um perfil de afinidade claro, com notas estimadas mais altas para itens que se alinham ao seu gosto e mais baixas para outros.\n",
    "\n",
    "O objetivo é confirmar que as notas previstas são consistentes com um perfil de gosto específico, validando a capacidade de **personalização** do modelo.\n",
    "\n",
    "---"
   ]
  },
  {
   "cell_type": "code",
   "execution_count": 8,
   "id": "1230cfee",
   "metadata": {},
   "outputs": [
    {
     "data": {
      "text/markdown": [
       "### 🔮 Previsões de Afinidade para o Aluno `1000` (Usuário Ativo)"
      ],
      "text/plain": [
       "<IPython.core.display.Markdown object>"
      ]
     },
     "metadata": {},
     "output_type": "display_data"
    },
    {
     "data": {
      "text/markdown": [
       "| Título do Tópico                  |   Nota Prevista |\n",
       "|:----------------------------------|----------------:|\n",
       "| Race the Sun (1996)               |          2.9788 |\n",
       "| Hideaway (1995)                   |          3.2769 |\n",
       "| I Love Trouble (1994)             |          3.7103 |\n",
       "| Terminator 2: Judgment Day (1991) |          3.9577 |\n",
       "| Pulp Fiction (1994)               |          3.3966 |\n",
       "\n",
       "*__Nota:__ A variação nas previsões reflete o perfil de gosto específico que o modelo aprendeu para este usuário ativo, mostrando sua capacidade de personalização.*"
      ],
      "text/plain": [
       "<IPython.core.display.Markdown object>"
      ]
     },
     "metadata": {},
     "output_type": "display_data"
    }
   ],
   "source": [
    "# --- CÉLULA 08: TESTE DE PREVISÃO PARA USUÁRIO ATIVO ---\n",
    "\n",
    "# Definir o ID do usuário ativo para o teste\n",
    "user_id_teste_ativo = '1000'\n",
    "\n",
    "# A lista de itens para teste é a mesma da célula anterior, para permitir uma comparação direta.\n",
    "item_ids_teste = ['120', '240', '360', '589', '296']\n",
    "\n",
    "\n",
    "# --- APRESENTAÇÃO FORMATADA DOS RESULTADOS ---\n",
    "\n",
    "# Título da Seção de Resultados\n",
    "display(Markdown(f\"### 🔮 Previsões de Afinidade para o Aluno `{user_id_teste_ativo}` (Usuário Ativo)\"))\n",
    "\n",
    "# Lista para armazenar os resultados antes de formatar\n",
    "results_list_ativo = []\n",
    "\n",
    "# Loop para gerar as previsões (sem imprimir nada ainda)\n",
    "for item_id in item_ids_teste:\n",
    "    titulo = id_to_titulo.get(item_id, f\"ID {item_id} (Título Desconhecido)\")\n",
    "    previsao = algo.predict(user_id_teste_ativo, item_id)\n",
    "    results_list_ativo.append({'Título do Tópico': titulo, 'Nota Prevista': previsao.est})\n",
    "\n",
    "# Criar um DataFrame com os resultados para fácil formatação em tabela\n",
    "results_df_ativo = pd.DataFrame(results_list_ativo)\n",
    "\n",
    "# Formatar a coluna de notas para 4 casas decimais\n",
    "results_df_ativo['Nota Prevista'] = results_df_ativo['Nota Prevista'].map('{:.4f}'.format)\n",
    "\n",
    "# Converter o DataFrame para uma tabela em formato Markdown\n",
    "results_table_ativo = results_df_ativo.to_markdown(index=False)\n",
    "\n",
    "# Nota final de análise\n",
    "final_note_ativo = \"\\n\\n*__Nota:__ A variação nas previsões reflete o perfil de gosto específico que o modelo aprendeu para este usuário ativo, mostrando sua capacidade de personalização.*\"\n",
    "\n",
    "# Exibir a tabela e a nota final de uma só vez\n",
    "display(Markdown(results_table_ativo + final_note_ativo))\n"
   ]
  },
  {
   "cell_type": "markdown",
   "id": "e4fcfa4e",
   "metadata": {},
   "source": [
    "<h2 style=\"color:#4CAF50;\">09. Exportação do Modelo para Produção</h2>\n",
    "\n",
    "Finalmente, salvamos o modelo treinado (`algo`) e os dicionários de mapeamento em um único arquivo `.pkl` usando a biblioteca `pickle`.\n",
    "\n",
    "Este arquivo é o \"produto final\" do nosso notebook. Ele contém tudo o que o nosso aplicativo Streamlit (`app.py`) precisa para carregar o sistema de recomendação de forma instantânea, sem a necessidade de retreinar o modelo a cada inicialização."
   ]
  },
  {
   "cell_type": "code",
   "execution_count": 9,
   "id": "24a5a21d",
   "metadata": {},
   "outputs": [
    {
     "data": {
      "text/markdown": [
       "\n",
       "<div style=\"border: 1px solid #145A32; border-left: 5px solid #145A32; padding: 15px; background-color: #f2fef3;\">\n",
       "    <h3 style=\"color:#145A32; margin-top:0;\">🏁 Notebook Concluído: Artefato Exportado com Sucesso!</h3>\n",
       "    <p>O modelo SVD treinado e os mapas de metadados foram agrupados e salvos no seguinte arquivo:</p>\n",
       "    <ul>\n",
       "        <li><strong>Arquivo Gerado:</strong> <code>../svd_model_data.pkl</code></li>\n",
       "    </ul>\n",
       "    <p>Este arquivo é o \"cérebro\" do sistema de recomendação e contém tudo o que é necessário para a aplicação interativa.</p>\n",
       "    <hr>\n",
       "    <p style=\"margin-bottom:0;\"><strong>Próximo Passo:</strong> Use este arquivo no seu aplicativo Streamlit (<code>app.py</code>) para carregar o modelo pré-treinado e gerar recomendações ao vivo.</p>\n",
       "</div>\n"
      ],
      "text/plain": [
       "<IPython.core.display.Markdown object>"
      ]
     },
     "metadata": {},
     "output_type": "display_data"
    }
   ],
   "source": [
    "# --- CÉLULA 09: SALVANDO O MODELO FINAL PARA O APP ---\n",
    "\n",
    "# Agrupa todos os objetos necessários para o app em um único dicionário\n",
    "model_data = {\n",
    "    'model': algo,\n",
    "    'id_to_titulo': id_to_titulo,\n",
    "    'id_to_generos': id_to_generos \n",
    "}\n",
    "\n",
    "# Define o caminho de destino do arquivo\n",
    "output_path = '../svd_model_data.pkl'\n",
    "\n",
    "# Salva o dicionário em um arquivo binário .pkl\n",
    "with open(output_path, 'wb') as f:\n",
    "    pickle.dump(model_data, f)\n",
    "\n",
    "# --- SAÍDA FINAL FORMATADA ---\n",
    "final_output = f\"\"\"\n",
    "<div style=\"border: 1px solid #145A32; border-left: 5px solid #145A32; padding: 15px; background-color: #f2fef3;\">\n",
    "    <h3 style=\"color:#145A32; margin-top:0;\">🏁 Notebook Concluído: Artefato Exportado com Sucesso!</h3>\n",
    "    <p>O modelo SVD treinado e os mapas de metadados foram agrupados e salvos no seguinte arquivo:</p>\n",
    "    <ul>\n",
    "        <li><strong>Arquivo Gerado:</strong> <code>{output_path}</code></li>\n",
    "    </ul>\n",
    "    <p>Este arquivo é o \"cérebro\" do sistema de recomendação e contém tudo o que é necessário para a aplicação interativa.</p>\n",
    "    <hr>\n",
    "    <p style=\"margin-bottom:0;\"><strong>Próximo Passo:</strong> Use este arquivo no seu aplicativo Streamlit (<code>app.py</code>) para carregar o modelo pré-treinado e gerar recomendações ao vivo.</p>\n",
    "</div>\n",
    "\"\"\"\n",
    "\n",
    "display(Markdown(final_output))\n"
   ]
  }
 ],
 "metadata": {
  "kernelspec": {
   "display_name": "venv",
   "language": "python",
   "name": "python3"
  },
  "language_info": {
   "codemirror_mode": {
    "name": "ipython",
    "version": 3
   },
   "file_extension": ".py",
   "mimetype": "text/x-python",
   "name": "python",
   "nbconvert_exporter": "python",
   "pygments_lexer": "ipython3",
   "version": "3.11.9"
  }
 },
 "nbformat": 4,
 "nbformat_minor": 5
}
